{
 "cells": [
  {
   "cell_type": "markdown",
   "id": "25d7736c-ba17-4aff-b6bb-66eba20fbf4e",
   "metadata": {},
   "source": [
    "# Lab | Functions"
   ]
  },
  {
   "cell_type": "markdown",
   "id": "0c581062-8967-4d93-b06e-62833222f930",
   "metadata": {
    "tags": []
   },
   "source": [
    "## Exercise: Managing Customer Orders with Functions\n",
    "\n",
    "In the previous exercise, you improved the code for managing customer orders by using loops and flow control. Now, let's take it a step further and refactor the code by introducing functions.\n",
    "\n",
    "Follow the steps below to complete the exercise:\n",
    "\n",
    "1. Define a function named `initialize_inventory` that takes `products` as a parameter. Inside the function, implement the code for initializing the inventory dictionary using a loop and user input.\n",
    "\n",
    "2. Define a function named `get_customer_orders` that takes no parameters. Inside the function, implement the code for prompting the user to enter the product names using a loop. The function should return the `customer_orders` set.\n",
    "\n",
    "3. Define a function named `update_inventory` that takes `customer_orders` and `inventory` as parameters. Inside the function, implement the code for updating the inventory dictionary based on the customer orders.\n",
    "\n",
    "4. Define a function named `calculate_order_statistics` that takes `customer_orders` and `products` as parameters. Inside the function, implement the code for calculating the order statistics (total products ordered, and percentage of unique products ordered). The function should return these values.\n",
    "\n",
    "5. Define a function named `print_order_statistics` that takes `order_statistics` as a parameter. Inside the function, implement the code for printing the order statistics.\n",
    "\n",
    "6. Define a function named `print_updated_inventory` that takes `inventory` as a parameter. Inside the function, implement the code for printing the updated inventory.\n",
    "\n",
    "7. Call the functions in the appropriate sequence to execute the program and manage customer orders.\n",
    "\n",
    "Hints for functions:\n",
    "\n",
    "- Consider the input parameters required for each function and their return values.\n",
    "- Utilize function parameters and return values to transfer data between functions.\n",
    "- Test your functions individually to ensure they work correctly.\n",
    "\n",
    "\n"
   ]
  },
  {
   "cell_type": "code",
   "execution_count": 1,
   "id": "53df0e23",
   "metadata": {},
   "outputs": [],
   "source": [
    "def initialize_inventory(list_products):\n",
    "    inventory = {} #setting an empty inventory\n",
    "    for product in products:\n",
    "        availabilty = int(input(f\"Please insert the number of {product} available: \"))\n",
    "        inventory[product] = availabilty\n",
    "    return inventory    "
   ]
  },
  {
   "cell_type": "code",
   "execution_count": 2,
   "id": "e384537c",
   "metadata": {},
   "outputs": [],
   "source": [
    "def get_customer_orders():\n",
    "    customer_orders = set() #setting an empty set\n",
    "    order_1 = input(\"Please insert the product ordered: \")\n",
    "    customer_orders.add(order_1)\n",
    "    yes_no = input(\"Do you want to add another product? (yes/no): \").lower() #used .lower() to guarantee that the input is exactly equal to \"yes\"\n",
    "    while yes_no == \"yes\":\n",
    "        next_order = input(\"Please insert the next product ordered: \")\n",
    "        customer_orders.add(next_order)\n",
    "        yes_no = input(\"Do you want to add another product? (yes/no): \").lower()\n",
    "    return customer_orders"
   ]
  },
  {
   "cell_type": "code",
   "execution_count": 3,
   "id": "d7aa3c54",
   "metadata": {},
   "outputs": [],
   "source": [
    "def update_inventory(set_customer_orders, inital_inventory):\n",
    "    for orders in customer_orders:\n",
    "        if orders in inventory:\n",
    "            inventory[orders] -= 1\n",
    "        else:\n",
    "            print(f\"Product {orders} is not available.\")\n",
    "    return inventory"
   ]
  },
  {
   "cell_type": "code",
   "execution_count": 4,
   "id": "bbb22132",
   "metadata": {},
   "outputs": [],
   "source": [
    "def calculate_order_statistics(set_customer_orders, list_products):\n",
    "    total_products_ordered = len(customer_orders)\n",
    "    percentage_of_unique_products_ordered = len(customer_orders)/(len(products))\n",
    "    order_statistics = (total_products_ordered, percentage_of_unique_products_ordered)\n",
    "    return order_statistics    "
   ]
  },
  {
   "cell_type": "code",
   "execution_count": 5,
   "id": "32e1ce2c",
   "metadata": {},
   "outputs": [],
   "source": [
    "def print_order_statistics(order_statistics):\n",
    "    results_statistics = print(order_statistics)\n",
    "    return results_statistics    "
   ]
  },
  {
   "cell_type": "code",
   "execution_count": 6,
   "id": "c2ba3cb0",
   "metadata": {},
   "outputs": [],
   "source": [
    "def print_updated_inventory(inventory):\n",
    "    inventory = print(inventory)\n",
    "    return inventory"
   ]
  },
  {
   "cell_type": "code",
   "execution_count": 7,
   "id": "63e3f9e9",
   "metadata": {},
   "outputs": [],
   "source": [
    "products = [\"t-shirt\", \"mug\", \"hat\", \"book\", \"keychain\"] #defining list of products"
   ]
  },
  {
   "cell_type": "code",
   "execution_count": 8,
   "id": "1cfee374",
   "metadata": {},
   "outputs": [
    {
     "name": "stdout",
     "output_type": "stream",
     "text": [
      "Please insert the number of t-shirt available: 10\n",
      "Please insert the number of mug available: 20\n",
      "Please insert the number of hat available: 30\n",
      "Please insert the number of book available: 40\n",
      "Please insert the number of keychain available: 50\n"
     ]
    }
   ],
   "source": [
    "inventory = initialize_inventory(products) #storing inventory dict using the defined list of products as an argument"
   ]
  },
  {
   "cell_type": "code",
   "execution_count": 9,
   "id": "b7b99412",
   "metadata": {},
   "outputs": [
    {
     "name": "stdout",
     "output_type": "stream",
     "text": [
      "{'t-shirt': 10, 'mug': 20, 'hat': 30, 'book': 40, 'keychain': 50}\n"
     ]
    }
   ],
   "source": [
    "print(inventory)"
   ]
  },
  {
   "cell_type": "code",
   "execution_count": 10,
   "id": "3b0a0b6b",
   "metadata": {},
   "outputs": [
    {
     "name": "stdout",
     "output_type": "stream",
     "text": [
      "Please insert the product ordered: t-shirt\n",
      "Do you want to add another product? (yes/no): yes\n",
      "Please insert the next product ordered: book\n",
      "Do you want to add another product? (yes/no): no\n"
     ]
    }
   ],
   "source": [
    "customer_orders = get_customer_orders() #storing customer_orders set by applying the function get_customer_orders()"
   ]
  },
  {
   "cell_type": "code",
   "execution_count": 11,
   "id": "277b2eb5",
   "metadata": {},
   "outputs": [
    {
     "name": "stdout",
     "output_type": "stream",
     "text": [
      "{'t-shirt', 'book'}\n"
     ]
    }
   ],
   "source": [
    "print(customer_orders)"
   ]
  },
  {
   "cell_type": "code",
   "execution_count": 12,
   "id": "a6fb8e7a",
   "metadata": {},
   "outputs": [
    {
     "data": {
      "text/plain": [
       "{'t-shirt': 9, 'mug': 20, 'hat': 30, 'book': 39, 'keychain': 50}"
      ]
     },
     "execution_count": 12,
     "metadata": {},
     "output_type": "execute_result"
    }
   ],
   "source": [
    "update_inventory(customer_orders, inventory) #updating the inventory using the customer_orders set and the inventory dict as arguments "
   ]
  },
  {
   "cell_type": "code",
   "execution_count": 13,
   "id": "d7ba011a",
   "metadata": {},
   "outputs": [],
   "source": [
    "order_statistics = calculate_order_statistics(customer_orders, products) #storing order_statistics by applying the function calculate_order_statistics using the set and the list of products as arguments"
   ]
  },
  {
   "cell_type": "code",
   "execution_count": 14,
   "id": "9064ad59",
   "metadata": {},
   "outputs": [
    {
     "name": "stdout",
     "output_type": "stream",
     "text": [
      "(2, 0.4)\n"
     ]
    }
   ],
   "source": [
    "print_order_statistics(order_statistics)"
   ]
  },
  {
   "cell_type": "code",
   "execution_count": 15,
   "id": "d7bf4f22",
   "metadata": {},
   "outputs": [
    {
     "name": "stdout",
     "output_type": "stream",
     "text": [
      "{'t-shirt': 9, 'mug': 20, 'hat': 30, 'book': 39, 'keychain': 50}\n"
     ]
    }
   ],
   "source": [
    "print_updated_inventory(inventory)"
   ]
  },
  {
   "cell_type": "code",
   "execution_count": null,
   "id": "ff1decc9",
   "metadata": {},
   "outputs": [],
   "source": []
  }
 ],
 "metadata": {
  "kernelspec": {
   "display_name": "Python 3 (ipykernel)",
   "language": "python",
   "name": "python3"
  },
  "language_info": {
   "codemirror_mode": {
    "name": "ipython",
    "version": 3
   },
   "file_extension": ".py",
   "mimetype": "text/x-python",
   "name": "python",
   "nbconvert_exporter": "python",
   "pygments_lexer": "ipython3",
   "version": "3.9.13"
  }
 },
 "nbformat": 4,
 "nbformat_minor": 5
}
